{
 "cells": [
  {
   "cell_type": "markdown",
   "metadata": {},
   "source": [
    "# Lichess Games: Data Analysis"
   ]
  },
  {
   "cell_type": "code",
   "execution_count": null,
   "metadata": {},
   "outputs": [],
   "source": [
    "import re\n",
    "import pandas as pd\n",
    "import numpy as np\n",
    "import matplotlib.pyplot as plt\n",
    "import matplotlib.colors as mpc\n",
    "from matplotlib.lines import Line2D\n",
    "import seaborn as sns\n",
    "from matplotlib import rcParams\n",
    "import mplcatppuccin\n",
    "from mplcatppuccin.colormaps import get_colormap_from_list"
   ]
  },
  {
   "cell_type": "markdown",
   "metadata": {},
   "source": [
    "## Global Matplotlib Settings"
   ]
  },
  {
   "cell_type": "code",
   "execution_count": null,
   "metadata": {},
   "outputs": [],
   "source": [
    "rcParams['figure.figsize'] = (12,  6)\n",
    "rcParams['figure.dpi'] = 200"
   ]
  },
  {
   "cell_type": "code",
   "execution_count": null,
   "metadata": {},
   "outputs": [],
   "source": [
    "df = pd.read_csv('chess-games.csv')\n",
    "df.head()"
   ]
  },
  {
   "cell_type": "markdown",
   "metadata": {},
   "source": [
    "## Exploratory Data Analysis"
   ]
  },
  {
   "cell_type": "code",
   "execution_count": null,
   "metadata": {},
   "outputs": [],
   "source": [
    "# Calculates the average ELO of the game\n",
    "def average_game_elo(row):\n",
    "    return round((row['white_rating'] + row['black_rating']) / 2)"
   ]
  },
  {
   "cell_type": "code",
   "execution_count": null,
   "metadata": {},
   "outputs": [],
   "source": [
    "# Checks if one of the players castled during the game\n",
    "def is_castle(row):\n",
    "    if row['moves'].find(\"O-O\") != -1:\n",
    "        return True\n",
    "    else:\n",
    "        return False"
   ]
  },
  {
   "cell_type": "code",
   "execution_count": null,
   "metadata": {},
   "outputs": [],
   "source": [
    "# Detect how many \"checks\" occured in each game\n",
    "check_pattern = re.compile(\"\\+\")\n",
    "def check_count(moves):\n",
    "  moves_list = moves.split(\" \")\n",
    "  n_checks = 0\n",
    "  for move in moves_list:\n",
    "    match = check_pattern.search(move)\n",
    "    if match:\n",
    "      n_checks = n_checks + 1\n",
    "  \n",
    "  return n_checks"
   ]
  },
  {
   "cell_type": "code",
   "execution_count": null,
   "metadata": {},
   "outputs": [],
   "source": [
    "df.shape"
   ]
  },
  {
   "cell_type": "code",
   "execution_count": null,
   "metadata": {},
   "outputs": [],
   "source": [
    "df.describe()"
   ]
  },
  {
   "cell_type": "code",
   "execution_count": null,
   "metadata": {},
   "outputs": [],
   "source": [
    "df.info()"
   ]
  },
  {
   "cell_type": "code",
   "execution_count": null,
   "metadata": {},
   "outputs": [],
   "source": [
    "df.duplicated().sum()"
   ]
  },
  {
   "cell_type": "code",
   "execution_count": null,
   "metadata": {},
   "outputs": [],
   "source": [
    "df.drop_duplicates()"
   ]
  },
  {
   "cell_type": "code",
   "execution_count": null,
   "metadata": {},
   "outputs": [],
   "source": [
    "df.drop([\"created_at\", \"last_move_at\"], axis=1, inplace=True)"
   ]
  },
  {
   "cell_type": "code",
   "execution_count": null,
   "metadata": {},
   "outputs": [],
   "source": [
    "df.rename(columns={\"opening_ply\": \"opening_move_nbr\"}, inplace=True)\n",
    "df.head()"
   ]
  },
  {
   "cell_type": "code",
   "execution_count": null,
   "metadata": {},
   "outputs": [],
   "source": [
    "df['increment_code'] = df['increment_code'].astype(str)"
   ]
  },
  {
   "cell_type": "code",
   "execution_count": null,
   "metadata": {},
   "outputs": [],
   "source": [
    "df['game_duration'] = df.apply(lambda x: x.increment_code.split(\"+\")[0], axis=1)\n",
    "df.head()"
   ]
  },
  {
   "cell_type": "code",
   "execution_count": null,
   "metadata": {},
   "outputs": [],
   "source": [
    "df.game_duration.value_counts()"
   ]
  },
  {
   "cell_type": "code",
   "execution_count": null,
   "metadata": {},
   "outputs": [],
   "source": [
    "plt.style.use(\"mocha\")\n",
    "df.game_duration.value_counts().sort_values(ascending=False).plot(kind=\"bar\")\n",
    "plt.savefig(\"PopularGameDuration.png\")"
   ]
  },
  {
   "cell_type": "code",
   "execution_count": null,
   "metadata": {},
   "outputs": [],
   "source": [
    "df.victory_status.value_counts()"
   ]
  },
  {
   "cell_type": "code",
   "execution_count": null,
   "metadata": {},
   "outputs": [],
   "source": [
    "plt.style.use(\"mocha\")\n",
    "df.victory_status.value_counts().sort_values(ascending=False).plot(kind=\"bar\")\n",
    "plt.savefig(\"VictoryStatus.png\")"
   ]
  },
  {
   "cell_type": "code",
   "execution_count": null,
   "metadata": {},
   "outputs": [],
   "source": [
    "df.winner.value_counts()"
   ]
  },
  {
   "cell_type": "code",
   "execution_count": null,
   "metadata": {},
   "outputs": [],
   "source": [
    "plt.style.use(\"mocha\")\n",
    "df.winner.value_counts().plot(kind=\"bar\")\n",
    "plt.xticks([0,1,2], [\"White\", \"Black\", \"Draw\"])\n",
    "plt.savefig(\"Winner.png\")"
   ]
  },
  {
   "cell_type": "code",
   "execution_count": null,
   "metadata": {},
   "outputs": [],
   "source": [
    "df.opening_eco.value_counts()"
   ]
  },
  {
   "cell_type": "code",
   "execution_count": null,
   "metadata": {},
   "outputs": [],
   "source": [
    "plt.style.use(\"mocha\")\n",
    "df.opening_eco.value_counts()[:100].plot(kind=\"bar\")\n",
    "plt.xticks(fontsize=8, rotation=90)\n",
    "plt.savefig(\"PopularOpening.png\")"
   ]
  },
  {
   "cell_type": "code",
   "execution_count": null,
   "metadata": {},
   "outputs": [],
   "source": [
    "df.game_duration.value_counts().sort_values(ascending=False)"
   ]
  },
  {
   "cell_type": "code",
   "execution_count": null,
   "metadata": {},
   "outputs": [],
   "source": [
    "df[\"did_castle\"] = df.apply(lambda x: is_castle(x), axis=1)\n",
    "df.head()"
   ]
  },
  {
   "cell_type": "code",
   "execution_count": null,
   "metadata": {},
   "outputs": [],
   "source": [
    "df.did_castle.value_counts()"
   ]
  },
  {
   "cell_type": "code",
   "execution_count": null,
   "metadata": {},
   "outputs": [],
   "source": [
    "plt.style.use(\"mocha\")\n",
    "df.did_castle.value_counts().plot(kind=\"bar\")\n",
    "plt.xticks([0,1], [\"Castle\", \"No Castle\"], rotation=0)\n",
    "plt.savefig(\"OneCastle.png\")"
   ]
  },
  {
   "cell_type": "code",
   "execution_count": null,
   "metadata": {},
   "outputs": [],
   "source": [
    "df[[\"black_rating\", \"white_rating\"]].max(axis=1).sort_values(ascending=False)"
   ]
  },
  {
   "cell_type": "code",
   "execution_count": null,
   "metadata": {},
   "outputs": [],
   "source": [
    "df[[\"black_rating\", \"white_rating\"]].max(axis=1).sort_values(ascending=False).value_counts()"
   ]
  },
  {
   "cell_type": "code",
   "execution_count": null,
   "metadata": {},
   "outputs": [],
   "source": [
    "df['check_count'] = df.apply(lambda x: check_count(x['moves']), axis=1)\n",
    "df.head()"
   ]
  },
  {
   "cell_type": "code",
   "execution_count": null,
   "metadata": {},
   "outputs": [],
   "source": [
    "df.check_count.value_counts()"
   ]
  },
  {
   "cell_type": "code",
   "execution_count": null,
   "metadata": {},
   "outputs": [],
   "source": [
    "plt.style.use(\"mocha\")\n",
    "df.check_count.value_counts().plot(kind=\"bar\")\n",
    "plt.savefig(\"CheckCount.png\")"
   ]
  },
  {
   "cell_type": "code",
   "execution_count": null,
   "metadata": {},
   "outputs": [],
   "source": [
    "df['average_game_elo'] = df.apply(lambda x: average_game_elo(x), axis=1)"
   ]
  },
  {
   "cell_type": "code",
   "execution_count": null,
   "metadata": {},
   "outputs": [],
   "source": [
    "df[\"winner\"].replace([\"white\", \"black\",\"draw\"], [1, 0, 2], inplace=True)"
   ]
  },
  {
   "cell_type": "code",
   "execution_count": null,
   "metadata": {},
   "outputs": [],
   "source": [
    "df.head()"
   ]
  },
  {
   "cell_type": "code",
   "execution_count": null,
   "metadata": {},
   "outputs": [],
   "source": [
    "df.winner.value_counts()"
   ]
  },
  {
   "cell_type": "code",
   "execution_count": null,
   "metadata": {},
   "outputs": [],
   "source": [
    "df.average_game_elo.max()"
   ]
  },
  {
   "cell_type": "code",
   "execution_count": null,
   "metadata": {},
   "outputs": [],
   "source": [
    "df[df[\"check_count\"] == 51]"
   ]
  },
  {
   "cell_type": "code",
   "execution_count": null,
   "metadata": {},
   "outputs": [],
   "source": [
    "df.game_duration.max()"
   ]
  },
  {
   "cell_type": "code",
   "execution_count": null,
   "metadata": {},
   "outputs": [],
   "source": [
    "df.check_count.max()"
   ]
  },
  {
   "cell_type": "code",
   "execution_count": null,
   "metadata": {},
   "outputs": [],
   "source": [
    "df.rated.value_counts()"
   ]
  },
  {
   "cell_type": "code",
   "execution_count": null,
   "metadata": {},
   "outputs": [],
   "source": [
    "plt.style.use(\"mocha\")\n",
    "df.rated.value_counts().plot(kind=\"bar\")\n",
    "plt.savefig(\"RatedvNonRated.png\")"
   ]
  },
  {
   "cell_type": "code",
   "execution_count": null,
   "metadata": {},
   "outputs": [],
   "source": [
    "df.victory_status.value_counts()"
   ]
  },
  {
   "cell_type": "code",
   "execution_count": null,
   "metadata": {},
   "outputs": [],
   "source": [
    "df.victory_status.unique()"
   ]
  },
  {
   "cell_type": "code",
   "execution_count": null,
   "metadata": {},
   "outputs": [],
   "source": [
    "sns.scatterplot(x=df[\"white_rating\"], y=df[\"black_rating\"], hue=df[\"victory_status\"])\n",
    "\n",
    "plt.ylabel(\"Black Elo Rating\", fontdict={\"size\": 8, \"weight\": \"medium\"})\n",
    "plt.xlabel(\"White Elo Rating\", fontdict={\"size\": 8, \"weight\": \"medium\"})\n",
    "plt.xticks(fontsize=8)\n",
    "plt.yticks(fontsize=8)\n",
    "plt.style.use(\"mocha\")\n",
    "plt.legend(['Out of Time', 'Resign', 'Mate', 'Draw'], loc='best')\n",
    "\n",
    "plt.savefig(\"RelationShipElo.png\")"
   ]
  },
  {
   "cell_type": "code",
   "execution_count": null,
   "metadata": {},
   "outputs": [],
   "source": [
    "sns.set_style(\"whitegrid\")\n",
    "sns.set_context(\"paper\")\n",
    "\n",
    "def NonLinCdict(steps, hexcol_array):\n",
    "    cdict = {'red': (), 'green': (), 'blue': ()}\n",
    "    for s, hexcol in zip(steps, hexcol_array):\n",
    "        rgb =mpc.hex2color(hexcol)\n",
    "        cdict['red'] = cdict['red'] + ((s, rgb[0], rgb[0]),)\n",
    "        cdict['green'] = cdict['green'] + ((s, rgb[1], rgb[1]),)\n",
    "        cdict['blue'] = cdict['blue'] + ((s, rgb[2], rgb[2]),)\n",
    "    return cdict\n",
    "\n",
    "hc = ['#dfe7ff', '#a1b6ff', '#7386fd', '#413fec', '#2d2ba8']\n",
    "th = [0, 0.1, 0.5, 0.9, 1]\n",
    "\n",
    "cdict = NonLinCdict(th, hc)\n",
    "cm = mpc.LinearSegmentedColormap('test', cdict)\n",
    "\n",
    "# labels = [\"rated\", \"turns\", \"white elo\", \"black elo\", \"opening move nbr\", \"did castle\", \"both castled\", \"nbr of checks\", \"average elo\", \"winner\"]\n",
    "\n",
    "plt.figure()\n",
    "sns.heatmap(\n",
    "        cbar=False,\n",
    "        vmin=0.0,\n",
    "        vmax=1.0,\n",
    "        annot=True,\n",
    "        square=True, \n",
    "        annot_kws={\"size\": 8},\n",
    "        data=df.corr(numeric_only=True),\n",
    "        xticklabels=[\"rated\", \"turns\", \"white elo\", \"black elo\", \"opening move nbr\", \"did castle\", \"both castled\", \"nbr of checks\", \"average elo\", \"winner\"],\n",
    "        yticklabels=[\"rated\", \"turns\", \"white elo\", \"black elo\", \"opening move nbr\", \"did castle\", \"both castled\", \"nbr of checks\", \"average elo\", \"winner\"],\n",
    "        cmap=cm,\n",
    "        linewidths=0.75)\n",
    "\n",
    "\n",
    "plt.xticks(fontsize=8)\n",
    "plt.yticks(fontsize=8)\n",
    "\n",
    "plt.savefig(\"HeatmapCorrelation.png\")"
   ]
  },
  {
   "cell_type": "code",
   "execution_count": null,
   "metadata": {},
   "outputs": [],
   "source": [
    "plt.style.use(style=\"mocha\")\n",
    "sns.displot(df[\"white_rating\"], kde=True)\n",
    "plt.xlabel(\"White Elo Rating\", fontdict={\"size\": 8,})\n",
    "plt.ylabel(\"Count\", fontdict={\"size\": 8})\n",
    "plt.xticks(fontsize=8)\n",
    "plt.yticks(fontsize=8)\n",
    "\n",
    "plt.savefig(\"WhiteEloDistribution.png\")"
   ]
  },
  {
   "cell_type": "code",
   "execution_count": null,
   "metadata": {},
   "outputs": [],
   "source": [
    "plt.style.use(style=\"mocha\")\n",
    "sns.displot(df[\"black_rating\"], kde=True, color=\"#f48ba8\")\n",
    "plt.xlabel(\"Black Elo Rating\", fontdict={\"size\": 8,})\n",
    "plt.ylabel(\"Count\", fontdict={\"size\": 8})\n",
    "plt.xticks(fontsize=8)\n",
    "plt.yticks(fontsize=8)\n",
    "\n",
    "plt.savefig(\"BlackEloDistribution.png\")"
   ]
  }
 ],
 "metadata": {
  "kernelspec": {
   "display_name": "Python 3.10.8 ('lichess-data-analysis-aggkgEXj')",
   "language": "python",
   "name": "python3"
  },
  "language_info": {
   "codemirror_mode": {
    "name": "ipython",
    "version": 3
   },
   "file_extension": ".py",
   "mimetype": "text/x-python",
   "name": "python",
   "nbconvert_exporter": "python",
   "pygments_lexer": "ipython3",
   "version": "3.10.9"
  },
  "orig_nbformat": 4,
  "vscode": {
   "interpreter": {
    "hash": "239322a2f0fcdd32988d720a1af16babce80abb8fbf4876cad596687e1cf4faa"
   }
  }
 },
 "nbformat": 4,
 "nbformat_minor": 2
}
